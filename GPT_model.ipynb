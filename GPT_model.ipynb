{
  "nbformat": 4,
  "nbformat_minor": 0,
  "metadata": {
    "colab": {
      "provenance": [],
      "gpuType": "A100"
    },
    "kernelspec": {
      "name": "python3",
      "display_name": "Python 3"
    },
    "language_info": {
      "name": "python"
    },
    "accelerator": "GPU"
  },
  "cells": [
    {
      "cell_type": "markdown",
      "source": [
        "# __Character-Level Generatively Pretrained Transformer (GPT)__\n",
        "### __Dataset: William Blake – Poems__  \n",
        "\n"
      ],
      "metadata": {
        "id": "mQkLQ_8-K0Ye"
      }
    },
    {
      "cell_type": "markdown",
      "source": [
        "## __1. Data Preprocessing__\n",
        "### __1.1 Load and Clean the Dataset__"
      ],
      "metadata": {
        "id": "k-_ld45FLAxF"
      }
    },
    {
      "cell_type": "code",
      "execution_count": 2,
      "metadata": {
        "colab": {
          "base_uri": "https://localhost:8080/"
        },
        "id": "7M0xnCDQKwuK",
        "outputId": "10158ae0-f6eb-423c-9a8d-415a55779016"
      },
      "outputs": [
        {
          "output_type": "stream",
          "name": "stdout",
          "text": [
            "Cleaned text length: 30958 characters\n",
            "Sample:\n",
            " SONGS OF INNOCENCE AND OF EXPERIENCE ***\n",
            "\n",
            "          [Picture: Image of Blake’s original page of The Tyger]\n",
            "\n",
            "                            SONGS OF INNOCENCE\n",
            "                                   AND\n",
            "                              OF EXPERIENCE\n",
            "\n",
            "                             BY WILLIAM BLAKE\n",
            "\n",
            "                 [Picture: The Astolaf Press, Guildford]\n",
            "\n",
            "                       LONDON: R. BRIMLEY JOHNSON.\n",
            "     \n"
          ]
        }
      ],
      "source": [
        "# 1.1 Load and clean the dataset\n",
        "import re, torch\n",
        "from collections import Counter\n",
        "\n",
        "dataset_path = \"william_blake_poems.txt\"\n",
        "with open(dataset_path, \"r\", encoding=\"utf-8\") as f:\n",
        "    raw_text = f.read()\n",
        "\n",
        "# Strip Project Gutenberg headers / footers\n",
        "start_marker = \"*** START OF THE PROJECT GUTENBERG EBOOK\"\n",
        "end_marker   = \"*** END OF THE PROJECT GUTENBERG EBOOK\"\n",
        "s_idx, e_idx = raw_text.find(start_marker), raw_text.find(end_marker)\n",
        "if s_idx != -1 and e_idx != -1:\n",
        "    text = raw_text[s_idx + len(start_marker): e_idx].strip()\n",
        "else:\n",
        "    text = raw_text\n",
        "\n",
        "# Basic cleanup\n",
        "text = re.sub(r\"\\n\\s*\\n\", \"\\n\\n\", text)\n",
        "text = re.sub(r\"Project Gutenberg.*\", \"\", text)\n",
        "text = re.sub(r\"www\\.gutenberg\\.org.*\", \"\", text)\n",
        "\n",
        "print(f\"Cleaned text length: {len(text)} characters\")\n",
        "print(\"Sample:\\n\", text[:400])"
      ]
    },
    {
      "cell_type": "markdown",
      "source": [
        "### __1.2 Character Tokenization and Vocab__"
      ],
      "metadata": {
        "id": "w1DNtg-6LaSF"
      }
    },
    {
      "cell_type": "code",
      "source": [
        "chars = sorted(list(set(text)))\n",
        "char_to_idx = {ch: i for i, ch in enumerate(chars)}\n",
        "idx_to_char = {i: ch for ch, i in char_to_idx.items()}\n",
        "vocab_size = len(chars)\n",
        "\n",
        "print(f\"\\nUnique characters (vocab size): {vocab_size}\")"
      ],
      "metadata": {
        "colab": {
          "base_uri": "https://localhost:8080/"
        },
        "id": "Lgr0z2srLXiP",
        "outputId": "7e7f3d31-f0b0-4e4a-ca0a-911b10d24e51"
      },
      "execution_count": 3,
      "outputs": [
        {
          "output_type": "stream",
          "name": "stdout",
          "text": [
            "\n",
            "Unique characters (vocab size): 73\n"
          ]
        }
      ]
    },
    {
      "cell_type": "code",
      "source": [
        "print(f'\\nCharacter to Index representation: {char_to_idx}', \"\\n\\n\")\n",
        "print(f'\\nIndex to Character representation: {idx_to_char}')"
      ],
      "metadata": {
        "colab": {
          "base_uri": "https://localhost:8080/"
        },
        "id": "ANoYzSlMLfNu",
        "outputId": "12221a1a-37b7-4872-b3e8-eefd44d71cbc"
      },
      "execution_count": 4,
      "outputs": [
        {
          "output_type": "stream",
          "name": "stdout",
          "text": [
            "\n",
            "Character to Index representation: {'\\n': 0, ' ': 1, '!': 2, '(': 3, ')': 4, '*': 5, ',': 6, '-': 7, '.': 8, ':': 9, ';': 10, '?': 11, 'A': 12, 'B': 13, 'C': 14, 'D': 15, 'E': 16, 'F': 17, 'G': 18, 'H': 19, 'I': 20, 'J': 21, 'K': 22, 'L': 23, 'M': 24, 'N': 25, 'O': 26, 'P': 27, 'Q': 28, 'R': 29, 'S': 30, 'T': 31, 'U': 32, 'V': 33, 'W': 34, 'X': 35, 'Y': 36, 'Z': 37, '[': 38, ']': 39, 'a': 40, 'b': 41, 'c': 42, 'd': 43, 'e': 44, 'f': 45, 'g': 46, 'h': 47, 'i': 48, 'j': 49, 'k': 50, 'l': 51, 'm': 52, 'n': 53, 'o': 54, 'p': 55, 'q': 56, 'r': 57, 's': 58, 't': 59, 'u': 60, 'v': 61, 'w': 62, 'x': 63, 'y': 64, 'z': 65, 'è': 66, 'é': 67, '—': 68, '‘': 69, '’': 70, '“': 71, '”': 72} \n",
            "\n",
            "\n",
            "\n",
            "Index to Character representation: {0: '\\n', 1: ' ', 2: '!', 3: '(', 4: ')', 5: '*', 6: ',', 7: '-', 8: '.', 9: ':', 10: ';', 11: '?', 12: 'A', 13: 'B', 14: 'C', 15: 'D', 16: 'E', 17: 'F', 18: 'G', 19: 'H', 20: 'I', 21: 'J', 22: 'K', 23: 'L', 24: 'M', 25: 'N', 26: 'O', 27: 'P', 28: 'Q', 29: 'R', 30: 'S', 31: 'T', 32: 'U', 33: 'V', 34: 'W', 35: 'X', 36: 'Y', 37: 'Z', 38: '[', 39: ']', 40: 'a', 41: 'b', 42: 'c', 43: 'd', 44: 'e', 45: 'f', 46: 'g', 47: 'h', 48: 'i', 49: 'j', 50: 'k', 51: 'l', 52: 'm', 53: 'n', 54: 'o', 55: 'p', 56: 'q', 57: 'r', 58: 's', 59: 't', 60: 'u', 61: 'v', 62: 'w', 63: 'x', 64: 'y', 65: 'z', 66: 'è', 67: 'é', 68: '—', 69: '‘', 70: '’', 71: '“', 72: '”'}\n"
          ]
        }
      ]
    },
    {
      "cell_type": "markdown",
      "source": [
        "### __1.3 Encoding, Sequence Creation & Split__"
      ],
      "metadata": {
        "id": "8uaSRshSLz6e"
      }
    },
    {
      "cell_type": "code",
      "source": [
        "# Encode/decode helpers\n",
        "def encode(s): return [char_to_idx[c] for c in s]\n",
        "def decode(ids): return ''.join([idx_to_char[i] for i in ids])\n",
        "\n",
        "ids = encode(text)\n",
        "context_len = 256\n",
        "print(\"\\nContext length:\", context_len)\n",
        "\n",
        "# Create overlapping sequences\n",
        "X, Y = [], []\n",
        "for i in range(len(ids) - context_len):\n",
        "    X.append(ids[i:i+context_len])\n",
        "    Y.append(ids[i+1:i+context_len+1])\n",
        "print(\"\\nTotal sequences:\", len(X))\n",
        "\n",
        "# Train/Val split\n",
        "split = int(0.9 * len(X))\n",
        "X_train, Y_train = X[:split], Y[:split]\n",
        "X_val,   Y_val   = X[split:], Y[split:]\n",
        "\n",
        "print(f\"\\nTrain: {len(X_train)} | Val: {len(X_val)}\")"
      ],
      "metadata": {
        "colab": {
          "base_uri": "https://localhost:8080/"
        },
        "id": "KJE84K09Ln8e",
        "outputId": "d3f150e9-1b6c-40d3-cd45-c534c980ea4b"
      },
      "execution_count": 5,
      "outputs": [
        {
          "output_type": "stream",
          "name": "stdout",
          "text": [
            "\n",
            "Context length: 256\n",
            "\n",
            "Total sequences: 30702\n",
            "\n",
            "Train: 27631 | Val: 3071\n"
          ]
        }
      ]
    },
    {
      "cell_type": "markdown",
      "source": [
        "## __2. Building the GPT Model__\n",
        "### __2.1 Embedding Layers__"
      ],
      "metadata": {
        "id": "P3sF9qNkMC3P"
      }
    },
    {
      "cell_type": "code",
      "source": [
        "import torch\n",
        "import torch.nn as nn\n",
        "\n",
        "class CharEmbedding(nn.Module):\n",
        "    def __init__(self, vocab_size, d_model, context_len):\n",
        "        super().__init__()\n",
        "        self.token_emb = nn.Embedding(vocab_size, d_model)\n",
        "        self.pos_emb   = nn.Embedding(context_len, d_model)\n",
        "    def forward(self, x):\n",
        "        B, T = x.shape\n",
        "        pos = torch.arange(0, T, device=x.device)\n",
        "        return self.token_emb(x) + self.pos_emb(pos)[None, :, :]"
      ],
      "metadata": {
        "id": "-IwLQ_ewMK0u"
      },
      "execution_count": 6,
      "outputs": []
    },
    {
      "cell_type": "markdown",
      "source": [
        "### __2.2 Multi-Head Self-Attention__"
      ],
      "metadata": {
        "id": "nHppyVFyMPpe"
      }
    },
    {
      "cell_type": "code",
      "source": [
        "class MultiHeadSelfAttention(nn.Module):\n",
        "    def __init__(self, d_model, n_heads):\n",
        "        super().__init__()\n",
        "        assert d_model % n_heads == 0\n",
        "        self.n_heads = n_heads\n",
        "        self.d_head  = d_model // n_heads\n",
        "        self.qkv = nn.Linear(d_model, 3*d_model)\n",
        "        self.proj = nn.Linear(d_model, d_model)\n",
        "    def forward(self, x):\n",
        "        B, T, D = x.shape\n",
        "        qkv = self.qkv(x).reshape(B, T, 3, self.n_heads, self.d_head).permute(2,0,3,1,4)\n",
        "        q, k, v = qkv[0], qkv[1], qkv[2]      # (B, heads, T, d_head)\n",
        "        attn = (q @ k.transpose(-2,-1)) / (self.d_head**0.5)\n",
        "        mask = torch.tril(torch.ones(T, T, device=x.device))\n",
        "        attn = attn.masked_fill(mask==0, float(\"-inf\"))\n",
        "        attn = torch.softmax(attn, dim=-1)\n",
        "        out  = attn @ v                       # (B, heads, T, d_head)\n",
        "        out  = out.transpose(1,2).contiguous().view(B,T,D)\n",
        "        return self.proj(out)"
      ],
      "metadata": {
        "id": "lcuMeoENMNXO"
      },
      "execution_count": 7,
      "outputs": []
    },
    {
      "cell_type": "markdown",
      "source": [
        "### __2.3 Feed-Forward + Transformer Block__"
      ],
      "metadata": {
        "id": "5BIcDml-MVgm"
      }
    },
    {
      "cell_type": "code",
      "source": [
        "class FeedForward(nn.Module):\n",
        "    def __init__(self, d_model, d_ff):\n",
        "        super().__init__()\n",
        "        self.net = nn.Sequential(\n",
        "            nn.Linear(d_model, d_ff),\n",
        "            nn.GELU(),\n",
        "            nn.Linear(d_ff, d_model)\n",
        "        )\n",
        "    def forward(self, x): return self.net(x)\n",
        "\n",
        "class DecoderBlock(nn.Module):\n",
        "    def __init__(self, d_model, n_heads, d_ff, dropout):\n",
        "        super().__init__()\n",
        "        self.ln1, self.ln2 = nn.LayerNorm(d_model), nn.LayerNorm(d_model)\n",
        "        self.attn = MultiHeadSelfAttention(d_model, n_heads)\n",
        "        self.ff   = FeedForward(d_model, d_ff)\n",
        "        self.drop = nn.Dropout(dropout)\n",
        "    def forward(self, x):\n",
        "        x = x + self.drop(self.attn(self.ln1(x)))\n",
        "        x = x + self.drop(self.ff(self.ln2(x)))\n",
        "        return x"
      ],
      "metadata": {
        "id": "bl_VOhmfMTcu"
      },
      "execution_count": 8,
      "outputs": []
    },
    {
      "cell_type": "markdown",
      "source": [
        "### __2.4 Complete GPT Model__"
      ],
      "metadata": {
        "id": "ROvDlWuIMcM2"
      }
    },
    {
      "cell_type": "code",
      "source": [
        "class CharGPT(nn.Module):\n",
        "    def __init__(self, vocab_size, d_model, n_layers, n_heads, d_ff, context_len, dropout):\n",
        "        super().__init__()\n",
        "        self.embed  = CharEmbedding(vocab_size, d_model, context_len)\n",
        "        self.blocks = nn.ModuleList([\n",
        "            DecoderBlock(d_model, n_heads, d_ff, dropout) for _ in range(n_layers)\n",
        "        ])\n",
        "        self.ln_f   = nn.LayerNorm(d_model)\n",
        "        self.fc_out = nn.Linear(d_model, vocab_size)\n",
        "    def forward(self, x):\n",
        "        x = self.embed(x)\n",
        "        for blk in self.blocks:\n",
        "            x = blk(x)\n",
        "        return self.fc_out(self.ln_f(x))"
      ],
      "metadata": {
        "id": "tMwxBbUjMbh_"
      },
      "execution_count": 9,
      "outputs": []
    },
    {
      "cell_type": "markdown",
      "source": [
        "## __3. Training the Model__\n",
        "### __3.1 Hyperparameters and Training Setup__"
      ],
      "metadata": {
        "id": "1bWzKn-5MjQW"
      }
    },
    {
      "cell_type": "code",
      "source": [
        "import math, random, torch.optim as optim\n",
        "from torch.optim.lr_scheduler import LambdaLR\n",
        "\n",
        "device = \"cuda\" if torch.cuda.is_available() else \"cpu\"\n",
        "print(\"\\nDevice:\", device)\n",
        "\n",
        "num_heads   = 2\n",
        "num_layers  = 2\n",
        "hidden_dim  = 128\n",
        "ff_dim      = 512\n",
        "dropout     = 0.4\n",
        "batch_size  = 64\n",
        "epochs      = 25\n",
        "lr          = 3e-4\n",
        "warmup_steps= 1000\n",
        "\n",
        "print(f\"\"\"\n",
        "Heads: {num_heads}\n",
        "Layers: {num_layers}\n",
        "Hidden dim: {hidden_dim}\n",
        "Feed-Forward dim: {ff_dim}\n",
        "Batch size: {batch_size}\n",
        "Epochs: {epochs}\n",
        "\"\"\")"
      ],
      "metadata": {
        "colab": {
          "base_uri": "https://localhost:8080/"
        },
        "id": "ePodAcs9ScCD",
        "outputId": "fa95379e-fd32-463a-c54d-028bf5016f1b"
      },
      "execution_count": 10,
      "outputs": [
        {
          "output_type": "stream",
          "name": "stdout",
          "text": [
            "\n",
            "Device: cuda\n",
            "\n",
            "Heads: 2\n",
            "Layers: 2\n",
            "Hidden dim: 128\n",
            "Feed-Forward dim: 512\n",
            "Batch size: 64\n",
            "Epochs: 25\n",
            "\n"
          ]
        }
      ]
    },
    {
      "cell_type": "code",
      "source": [
        "model = CharGPT(vocab_size, hidden_dim, num_layers,\n",
        "                num_heads, ff_dim, context_len, dropout).to(device)\n",
        "\n",
        "criterion = nn.CrossEntropyLoss()\n",
        "optimizer = optim.AdamW(model.parameters(), lr=lr, betas=(0.9,0.95), weight_decay=0.05)\n",
        "\n",
        "def lr_lambda(step):\n",
        "    if step < warmup_steps:\n",
        "        return step / warmup_steps\n",
        "    return 0.5 * (1 + math.cos((step - warmup_steps)/(10000 - warmup_steps)*math.pi))\n",
        "\n",
        "scheduler = LambdaLR(optimizer, lr_lambda)"
      ],
      "metadata": {
        "id": "g49HJwxhMhXe"
      },
      "execution_count": 11,
      "outputs": []
    },
    {
      "cell_type": "markdown",
      "source": [
        "### __3.2 Training Loop__"
      ],
      "metadata": {
        "id": "usmmAOY0M1q_"
      }
    },
    {
      "cell_type": "code",
      "source": [
        "def get_batch(X, Y, bs):\n",
        "    idx = random.sample(range(len(X)), bs)\n",
        "    xb = torch.tensor([X[i] for i in idx], device=device)\n",
        "    yb = torch.tensor([Y[i] for i in idx], device=device)\n",
        "    return xb, yb\n",
        "\n",
        "steps_per_epoch = len(X_train)//batch_size\n",
        "train_losses, val_losses = [], []\n",
        "best_val=float(\"inf\"); bad_epochs=0; patience=3\n",
        "\n",
        "for ep in range(epochs):\n",
        "    model.train(); running=0.0\n",
        "    for st in range(steps_per_epoch):\n",
        "        xb,yb=get_batch(X_train,Y_train,batch_size)\n",
        "        logits=model(xb)\n",
        "        loss=criterion(logits.view(-1,vocab_size), yb.view(-1))\n",
        "        optimizer.zero_grad(); loss.backward()\n",
        "        torch.nn.utils.clip_grad_norm_(model.parameters(),1.0)\n",
        "        optimizer.step(); scheduler.step()\n",
        "        running += loss.item()\n",
        "        if (st+1)%200==0:\n",
        "            print(f\"Epoch {ep+1} Step {st+1}/{steps_per_epoch} | Train Loss: {running/(st+1):.4f}\")\n",
        "\n",
        "    model.eval()\n",
        "    with torch.no_grad():\n",
        "        xv,yv=get_batch(X_val,Y_val,batch_size)\n",
        "        val_loss=criterion(model(xv).view(-1,vocab_size), yv.view(-1))\n",
        "    train_losses.append(running/steps_per_epoch); val_losses.append(val_loss.item())\n",
        "    print(f\"Epoch {ep+1} Done | Train {train_losses[-1]:.4f} | Val {val_losses[-1]:.4f}\")\n",
        "    if val_losses[-1]<best_val:\n",
        "        best_val=val_losses[-1]; bad_epochs=0\n",
        "        torch.save(model.state_dict(),\"best_char_gpt.pt\")\n",
        "    else:\n",
        "        bad_epochs+=1\n",
        "        if bad_epochs>=patience:\n",
        "            print(\"Early stopping triggered.\"); break"
      ],
      "metadata": {
        "colab": {
          "base_uri": "https://localhost:8080/"
        },
        "id": "1DCcJ9gCMzBO",
        "outputId": "375d1341-3e6d-4d62-db95-904eef9767e4",
        "collapsed": true
      },
      "execution_count": 12,
      "outputs": [
        {
          "output_type": "stream",
          "name": "stdout",
          "text": [
            "Epoch 1 Step 200/431 | Train Loss: 4.0086\n",
            "Epoch 1 Step 400/431 | Train Loss: 3.4749\n",
            "Epoch 1 Done | Train 3.4168 | Val 2.6139\n",
            "Epoch 2 Step 200/431 | Train Loss: 2.5555\n",
            "Epoch 2 Step 400/431 | Train Loss: 2.5077\n",
            "Epoch 2 Done | Train 2.5019 | Val 2.4363\n",
            "Epoch 3 Step 200/431 | Train Loss: 2.4053\n",
            "Epoch 3 Step 400/431 | Train Loss: 2.3862\n",
            "Epoch 3 Done | Train 2.3835 | Val 2.4135\n",
            "Epoch 4 Step 200/431 | Train Loss: 2.3223\n",
            "Epoch 4 Step 400/431 | Train Loss: 2.2997\n",
            "Epoch 4 Done | Train 2.2956 | Val 2.3180\n",
            "Epoch 5 Step 200/431 | Train Loss: 2.2058\n",
            "Epoch 5 Step 400/431 | Train Loss: 2.1613\n",
            "Epoch 5 Done | Train 2.1539 | Val 2.1616\n",
            "Epoch 6 Step 200/431 | Train Loss: 2.0038\n",
            "Epoch 6 Step 400/431 | Train Loss: 1.9621\n",
            "Epoch 6 Done | Train 1.9565 | Val 2.0477\n",
            "Epoch 7 Step 200/431 | Train Loss: 1.8505\n",
            "Epoch 7 Step 400/431 | Train Loss: 1.8248\n",
            "Epoch 7 Done | Train 1.8213 | Val 1.9963\n",
            "Epoch 8 Step 200/431 | Train Loss: 1.7512\n",
            "Epoch 8 Step 400/431 | Train Loss: 1.7318\n",
            "Epoch 8 Done | Train 1.7289 | Val 1.9234\n",
            "Epoch 9 Step 200/431 | Train Loss: 1.6727\n",
            "Epoch 9 Step 400/431 | Train Loss: 1.6569\n",
            "Epoch 9 Done | Train 1.6549 | Val 1.9113\n",
            "Epoch 10 Step 200/431 | Train Loss: 1.6086\n",
            "Epoch 10 Step 400/431 | Train Loss: 1.5955\n",
            "Epoch 10 Done | Train 1.5936 | Val 1.8991\n",
            "Epoch 11 Step 200/431 | Train Loss: 1.5558\n",
            "Epoch 11 Step 400/431 | Train Loss: 1.5442\n",
            "Epoch 11 Done | Train 1.5428 | Val 1.8807\n",
            "Epoch 12 Step 200/431 | Train Loss: 1.5096\n",
            "Epoch 12 Step 400/431 | Train Loss: 1.5002\n",
            "Epoch 12 Done | Train 1.4988 | Val 1.9298\n",
            "Epoch 13 Step 200/431 | Train Loss: 1.4734\n",
            "Epoch 13 Step 400/431 | Train Loss: 1.4654\n",
            "Epoch 13 Done | Train 1.4639 | Val 1.9587\n",
            "Epoch 14 Step 200/431 | Train Loss: 1.4398\n",
            "Epoch 14 Step 400/431 | Train Loss: 1.4344\n",
            "Epoch 14 Done | Train 1.4333 | Val 1.8946\n",
            "Early stopping triggered.\n"
          ]
        }
      ]
    },
    {
      "cell_type": "markdown",
      "source": [
        "### Saving My model weights"
      ],
      "metadata": {
        "id": "MOyyDWpZhBsQ"
      }
    },
    {
      "cell_type": "code",
      "source": [
        "# Save trained model weights\n",
        "MODEL_PATH = \"william_blake_charGPT_weights.pt\"\n",
        "torch.save(model.state_dict(), MODEL_PATH)\n",
        "print(f\"Model weights saved successfully at: {MODEL_PATH}\")"
      ],
      "metadata": {
        "colab": {
          "base_uri": "https://localhost:8080/"
        },
        "id": "tSvU3JTcg20h",
        "outputId": "4b8d5dff-6303-4a23-bf19-837a43b68b27"
      },
      "execution_count": 14,
      "outputs": [
        {
          "output_type": "stream",
          "name": "stdout",
          "text": [
            "Model weights saved successfully at: william_blake_charGPT_weights.pt\n"
          ]
        }
      ]
    },
    {
      "cell_type": "markdown",
      "source": [
        "### __3.3 Text Generation__"
      ],
      "metadata": {
        "id": "VXielbbONCOR"
      }
    },
    {
      "cell_type": "code",
      "source": [
        "def generate_text(model, start_text=\"tyger, tyger, \", max_new=400,\n",
        "                  temperature=0.8, top_k=50):\n",
        "    model.eval()\n",
        "    ids = encode(start_text)\n",
        "    for _ in range(max_new):\n",
        "        x=torch.tensor([ids[-context_len:]], device=device)\n",
        "        logits=model(x)[:,-1,:]/temperature\n",
        "        sorted_logits, sorted_idx=torch.sort(logits, descending=True)\n",
        "        sorted_logits=sorted_logits[:,:top_k]; sorted_idx=sorted_idx[:,:top_k]\n",
        "        probs=torch.softmax(sorted_logits, dim=-1)\n",
        "        next_id=sorted_idx[0, torch.multinomial(probs,1)].item()\n",
        "        ids.append(next_id)\n",
        "    return decode(ids)\n",
        "\n",
        "print(\"\\nGenerated sample:\\n\")\n",
        "#print(generate_text(model, start_text=\"tyger, tyger, \"))\n",
        "\n",
        "print(\"\\nGenerated Sample:\\n\")\n",
        "print(generate_text(model, start_text = \"Your smile\"))"
      ],
      "metadata": {
        "colab": {
          "base_uri": "https://localhost:8080/"
        },
        "id": "ego1IWjRM7lf",
        "outputId": "4cc4add1-7330-4f50-cffd-9acbdcc40fbd"
      },
      "execution_count": 13,
      "outputs": [
        {
          "output_type": "stream",
          "name": "stdout",
          "text": [
            "\n",
            "Generated sample:\n",
            "\n",
            "\n",
            "Generated Sample:\n",
            "\n",
            "Your smiles,\n",
            "From head his kissed my flowelfies,\n",
            "Night where a sorrom and,\n",
            "And moan the cand I wantery angel a live their love,\n",
            "When hen the band you the sunk his gorns he!’\n",
            "\n",
            "ANDENSORROSEN\n",
            "\n",
            "Where flower like child her thorn, the bead.\n",
            "\n",
            "The gradled up and meen\n",
            "On seen\n",
            "While their beounds areys,\n",
            "Till in the shou shall way theep?\n",
            "\n",
            "‘Lyca be ey song with like should.\n",
            "\n",
            "Then in a shepers like the seep.\n",
            "\n",
            "THE Boy, a\n"
          ]
        }
      ]
    },
    {
      "cell_type": "markdown",
      "source": [
        "### __3.4 Plot Loss Curves__"
      ],
      "metadata": {
        "id": "afD4agY9NH_e"
      }
    },
    {
      "cell_type": "code",
      "source": [
        "import matplotlib.pyplot as plt\n",
        "\n",
        "plt.plot(train_losses, label=\"Train Loss\")\n",
        "plt.plot(val_losses, label=\"Val Loss\")\n",
        "plt.xlabel(\"Epoch\"); plt.ylabel(\"Loss\")\n",
        "plt.title(\"Character-Level GPT · William Blake Poems\")\n",
        "plt.legend(); plt.show()"
      ],
      "metadata": {
        "colab": {
          "base_uri": "https://localhost:8080/",
          "height": 472
        },
        "id": "vrmtS4DaNJWP",
        "outputId": "2749ea72-42db-40c7-fc1c-8594bd44fbc6"
      },
      "execution_count": 15,
      "outputs": [
        {
          "output_type": "display_data",
          "data": {
            "text/plain": [
              "<Figure size 640x480 with 1 Axes>"
            ],
            "image/png": "[encoded data removed]"
          },
          "metadata": {}
        }
      ]
    },
    {
      "cell_type": "markdown",
      "source": [
        "### Model can be reloaded from here"
      ],
      "metadata": {
        "id": "_KxTNp7vhGSp"
      }
    },
    {
      "cell_type": "code",
      "source": [
        "# Load model weights\n",
        "# Make sure the architecture definition is exactly the same\n",
        "model = CharGPT(vocab_size, hidden_dim, num_layers, num_heads, ff_dim, context_len, dropout)\n",
        "model.load_state_dict(torch.load(\"william_blake_charGPT_weights.pt\", map_location=device))\n",
        "model.to(device)\n",
        "model.eval()\n",
        "\n",
        "print(\"Model loaded successfully and set to evaluation mode.\")"
      ],
      "metadata": {
        "colab": {
          "base_uri": "https://localhost:8080/"
        },
        "id": "ZEDAFv8ag7eJ",
        "outputId": "ecab85da-4d53-4758-9830-f429237686e5"
      },
      "execution_count": 16,
      "outputs": [
        {
          "output_type": "stream",
          "name": "stdout",
          "text": [
            "Model loaded successfully and set to evaluation mode.\n"
          ]
        }
      ]
    }
  ]
}
